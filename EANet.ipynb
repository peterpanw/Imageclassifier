{
  "nbformat": 4,
  "nbformat_minor": 0,
  "metadata": {
    "colab": {
      "name": "EANet.ipynb",
      "provenance": [],
      "collapsed_sections": [],
      "authorship_tag": "ABX9TyMye4TvPdSe0d7RLzrfr49z",
      "include_colab_link": true
    },
    "kernelspec": {
      "name": "python3",
      "display_name": "Python 3"
    },
    "language_info": {
      "name": "python"
    },
    "accelerator": "GPU"
  },
  "cells": [
    {
      "cell_type": "markdown",
      "metadata": {
        "id": "view-in-github",
        "colab_type": "text"
      },
      "source": [
        "<a href=\"https://colab.research.google.com/github/peterpanw/Imageclassifier/blob/main/EANet.ipynb\" target=\"_parent\"><img src=\"https://colab.research.google.com/assets/colab-badge.svg\" alt=\"Open In Colab\"/></a>"
      ]
    },
    {
      "cell_type": "code",
      "metadata": {
        "colab": {
          "base_uri": "https://localhost:8080/"
        },
        "id": "lc2_cHJFHtyK",
        "outputId": "1f099bce-e0f4-45a6-bf27-5bfcb446024c"
      },
      "source": [
        "pip install -U tensorflow-addons"
      ],
      "execution_count": null,
      "outputs": [
        {
          "output_type": "stream",
          "name": "stdout",
          "text": [
            "Collecting tensorflow-addons\n",
            "  Downloading tensorflow_addons-0.14.0-cp37-cp37m-manylinux_2_12_x86_64.manylinux2010_x86_64.whl (1.1 MB)\n",
            "\u001b[K     |████████████████████████████████| 1.1 MB 5.2 MB/s \n",
            "\u001b[?25hRequirement already satisfied: typeguard>=2.7 in /usr/local/lib/python3.7/dist-packages (from tensorflow-addons) (2.7.1)\n",
            "Installing collected packages: tensorflow-addons\n",
            "Successfully installed tensorflow-addons-0.14.0\n"
          ]
        }
      ]
    },
    {
      "cell_type": "code",
      "metadata": {
        "colab": {
          "base_uri": "https://localhost:8080/"
        },
        "id": "2xoHj5bfKOx_",
        "outputId": "0349f01b-e388-4382-aa36-d5af9c33acb3"
      },
      "source": [
        "import tensorflow as tf\n",
        "print(\"tensorflow version:\", tf.__version__)"
      ],
      "execution_count": null,
      "outputs": [
        {
          "output_type": "stream",
          "name": "stdout",
          "text": [
            "tensorflow version: 2.6.0\n"
          ]
        }
      ]
    },
    {
      "cell_type": "code",
      "metadata": {
        "id": "YtUHqNZWKYPC"
      },
      "source": [
        "## Setup\n",
        "import numpy as np\n",
        "import tensorflow as tf\n",
        "from tensorflow import keras\n",
        "from tensorflow.keras import layers\n",
        "import tensorflow_addons as tfa\n",
        "import matplotlib.pyplot as plt"
      ],
      "execution_count": null,
      "outputs": []
    },
    {
      "cell_type": "code",
      "metadata": {
        "colab": {
          "base_uri": "https://localhost:8080/"
        },
        "id": "CHpia1-5KiOh",
        "outputId": "581025ac-dcb2-4050-c59b-c3c74fef4a64"
      },
      "source": [
        "# Prepare the data\n",
        "num_classes = 100\n",
        "input_shape = (32, 32, 3)\n",
        "\n",
        "(x_train, y_train), (x_test, y_test) = keras.datasets.cifar100.load_data()\n",
        "y_train = keras.utils.to_categorical(y_train, num_classes)\n",
        "y_test = keras.utils.to_categorical(y_test, num_classes)\n",
        "print(f\"x_train shape: {x_train.shape} - y_train shape: {y_train.shape}\")\n",
        "print(f\"x_test shape: {x_test.shape} - y_test shape: {y_test.shape}\")"
      ],
      "execution_count": null,
      "outputs": [
        {
          "output_type": "stream",
          "name": "stdout",
          "text": [
            "Downloading data from https://www.cs.toronto.edu/~kriz/cifar-100-python.tar.gz\n",
            "169009152/169001437 [==============================] - 2s 0us/step\n",
            "169017344/169001437 [==============================] - 2s 0us/step\n",
            "x_train shape: (50000, 32, 32, 3) - y_train shape: (50000, 100)\n",
            "x_test shape: (10000, 32, 32, 3) - y_test shape: (10000, 100)\n"
          ]
        }
      ]
    },
    {
      "cell_type": "code",
      "metadata": {
        "colab": {
          "base_uri": "https://localhost:8080/"
        },
        "id": "LD4qyQJiKssD",
        "outputId": "d45509c7-d00f-4669-96d0-23f4692babe4"
      },
      "source": [
        "# Configure the hyperparameters\n",
        "weight_decay = 0.0001\n",
        "learning_rate = 0.001\n",
        "label_smoothing = 0.1\n",
        "validation_split = 0.2\n",
        "batch_size = 128\n",
        "num_epochs = 50\n",
        "patch_size = 2  # Size of the patches to be extracted from the input images.\n",
        "num_patches = (input_shape[0] // patch_size) ** 2  # Number of patch\n",
        "embedding_dim = 64  # Number of hidden units.\n",
        "mlp_dim = 64\n",
        "dim_coefficient = 4\n",
        "num_heads = 4\n",
        "attention_dropout = 0.2\n",
        "projection_dropout = 0.2\n",
        "num_transformer_blocks = 8  # Number of repetitions of the transformer layer\n",
        "\n",
        "print(f\"Patch size: {patch_size} X {patch_size} = {patch_size ** 2} \")\n",
        "print(f\"Patches per image: {num_patches}\")"
      ],
      "execution_count": null,
      "outputs": [
        {
          "output_type": "stream",
          "name": "stdout",
          "text": [
            "Patch size: 2 X 2 = 4 \n",
            "Patches per image: 256\n"
          ]
        }
      ]
    },
    {
      "cell_type": "code",
      "metadata": {
        "id": "ie90Y7AoMdhj"
      },
      "source": [
        "# Use data augmentation\n",
        "data_augmentation = keras.Sequential(\n",
        "    [\n",
        "        layers.Normalization(),\n",
        "        layers.RandomFlip(\"horizontal\"),\n",
        "        layers.RandomRotation(factor=0.1),\n",
        "        layers.RandomContrast(factor=0.1),\n",
        "        layers.RandomZoom(height_factor=0.2, width_factor=0.2),\n",
        "    ],\n",
        "    name=\"data_augmentation\",\n",
        ")\n",
        "# Compute the mean and the variance of the training data for normalization.\n",
        "data_augmentation.layers[0].adapt(x_train)"
      ],
      "execution_count": null,
      "outputs": []
    },
    {
      "cell_type": "code",
      "metadata": {
        "id": "DOstRJrzMjnR"
      },
      "source": [
        "# Implement the patch extraction and encoding layer\n",
        "class PatchExtract(layers.Layer):\n",
        "    def __init__(self, patch_size, **kwargs):\n",
        "        super(PatchExtract, self).__init__(**kwargs)\n",
        "        self.patch_size = patch_size\n",
        "\n",
        "    def call(self, images):\n",
        "        batch_size = tf.shape(images)[0]\n",
        "        patches = tf.image.extract_patches(\n",
        "            images=images,\n",
        "            sizes=(1, self.patch_size, self.patch_size, 1),\n",
        "            strides=(1, self.patch_size, self.patch_size, 1),\n",
        "            rates=(1, 1, 1, 1),\n",
        "            padding=\"VALID\",\n",
        "        )\n",
        "        patch_dim = patches.shape[-1]\n",
        "        patch_num = patches.shape[1]\n",
        "        return tf.reshape(patches, (batch_size, patch_num * patch_num, patch_dim))\n",
        "\n",
        "\n",
        "class PatchEmbedding(layers.Layer):\n",
        "    def __init__(self, num_patch, embed_dim, **kwargs):\n",
        "        super(PatchEmbedding, self).__init__(**kwargs)\n",
        "        self.num_patch = num_patch\n",
        "        self.proj = layers.Dense(embed_dim)\n",
        "        self.pos_embed = layers.Embedding(input_dim=num_patch, output_dim=embed_dim)\n",
        "\n",
        "    def call(self, patch):\n",
        "        pos = tf.range(start=0, limit=self.num_patch, delta=1)\n",
        "        return self.proj(patch) + self.pos_embed(pos)"
      ],
      "execution_count": null,
      "outputs": []
    },
    {
      "cell_type": "code",
      "metadata": {
        "id": "bRlX7kuYMsZf"
      },
      "source": [
        "# Implement the external attention block\n",
        "def external_attention(\n",
        "    x, dim, num_heads, dim_coefficient=4, attention_dropout=0, projection_dropout=0\n",
        "):\n",
        "    _, num_patch, channel = x.shape\n",
        "    assert dim % num_heads == 0\n",
        "    num_heads = num_heads * dim_coefficient\n",
        "\n",
        "    x = layers.Dense(dim * dim_coefficient)(x)\n",
        "    # create tensor [batch_size, num_patches, num_heads, dim*dim_coefficient//num_heads]\n",
        "    x = tf.reshape(\n",
        "        x, shape=(-1, num_patch, num_heads, dim * dim_coefficient // num_heads)\n",
        "    )\n",
        "    x = tf.transpose(x, perm=[0, 2, 1, 3])\n",
        "    # a linear layer M_k\n",
        "    attn = layers.Dense(dim // dim_coefficient)(x)\n",
        "    # normalize attention map\n",
        "    attn = layers.Softmax(axis=2)(attn)\n",
        "    # dobule-normalization\n",
        "    attn = attn / (1e-9 + tf.reduce_sum(attn, axis=-1, keepdims=True))\n",
        "    attn = layers.Dropout(attention_dropout)(attn)\n",
        "    # a linear layer M_v\n",
        "    x = layers.Dense(dim * dim_coefficient // num_heads)(attn)\n",
        "    x = tf.transpose(x, perm=[0, 2, 1, 3])\n",
        "    x = tf.reshape(x, [-1, num_patch, dim * dim_coefficient])\n",
        "    # a linear layer to project original dim\n",
        "    x = layers.Dense(dim)(x)\n",
        "    x = layers.Dropout(projection_dropout)(x)\n",
        "    return x"
      ],
      "execution_count": null,
      "outputs": []
    },
    {
      "cell_type": "code",
      "metadata": {
        "id": "mMsVNURWMzff"
      },
      "source": [
        "# Implement the MLP block\n",
        "def mlp(x, embedding_dim, mlp_dim, drop_rate=0.2):\n",
        "    x = layers.Dense(mlp_dim, activation=tf.nn.gelu)(x)\n",
        "    x = layers.Dropout(drop_rate)(x)\n",
        "    x = layers.Dense(embedding_dim)(x)\n",
        "    x = layers.Dropout(drop_rate)(x)\n",
        "    return x"
      ],
      "execution_count": null,
      "outputs": []
    },
    {
      "cell_type": "code",
      "metadata": {
        "id": "UGwEgjZSM4IQ"
      },
      "source": [
        "# Implement the Transformer block\n",
        "def transformer_encoder(\n",
        "    x,\n",
        "    embedding_dim,\n",
        "    mlp_dim,\n",
        "    num_heads,\n",
        "    dim_coefficient,\n",
        "    attention_dropout,\n",
        "    projection_dropout,\n",
        "    attention_type=\"external_attention\",\n",
        "):\n",
        "    residual_1 = x\n",
        "    x = layers.LayerNormalization(epsilon=1e-5)(x)\n",
        "    if attention_type == \"external_attention\":\n",
        "        x = external_attention(\n",
        "            x,\n",
        "            embedding_dim,\n",
        "            num_heads,\n",
        "            dim_coefficient,\n",
        "            attention_dropout,\n",
        "            projection_dropout,\n",
        "        )\n",
        "    elif attention_type == \"self_attention\":\n",
        "        x = layers.MultiHeadAttention(\n",
        "            num_heads=num_heads, key_dim=embedding_dim, dropout=attention_dropout\n",
        "        )(x, x)\n",
        "    x = layers.add([x, residual_1])\n",
        "    residual_2 = x\n",
        "    x = layers.LayerNormalization(epsilon=1e-5)(x)\n",
        "    x = mlp(x, embedding_dim, mlp_dim)\n",
        "    x = layers.add([x, residual_2])\n",
        "    return x"
      ],
      "execution_count": null,
      "outputs": []
    },
    {
      "cell_type": "code",
      "metadata": {
        "id": "0yAhARF9M9NA"
      },
      "source": [
        "# Implement the EANet model\n",
        "def get_model(attention_type=\"external_attention\"):\n",
        "    inputs = layers.Input(shape=input_shape)\n",
        "    # Image augment\n",
        "    x = data_augmentation(inputs)\n",
        "    # Extract patches.\n",
        "    x = PatchExtract(patch_size)(x)\n",
        "    # Create patch embedding.\n",
        "    x = PatchEmbedding(num_patches, embedding_dim)(x)\n",
        "    # Create Transformer block.\n",
        "    for _ in range(num_transformer_blocks):\n",
        "        x = transformer_encoder(\n",
        "            x,\n",
        "            embedding_dim,\n",
        "            mlp_dim,\n",
        "            num_heads,\n",
        "            dim_coefficient,\n",
        "            attention_dropout,\n",
        "            projection_dropout,\n",
        "            attention_type,\n",
        "        )\n",
        "\n",
        "    x = layers.GlobalAvgPool1D()(x)\n",
        "    outputs = layers.Dense(num_classes, activation=\"softmax\")(x)\n",
        "    model = keras.Model(inputs=inputs, outputs=outputs)\n",
        "    return model"
      ],
      "execution_count": null,
      "outputs": []
    },
    {
      "cell_type": "code",
      "metadata": {
        "colab": {
          "base_uri": "https://localhost:8080/"
        },
        "id": "TEyFDpEUNCAQ",
        "outputId": "82d42ae2-d7f2-4188-bd56-a22397dc9aa1"
      },
      "source": [
        "# Train on CIFAR-100\n",
        "model = get_model(attention_type=\"external_attention\")\n",
        "\n",
        "model.compile(\n",
        "    loss=keras.losses.CategoricalCrossentropy(label_smoothing=label_smoothing),\n",
        "    optimizer=tfa.optimizers.AdamW(\n",
        "        learning_rate=learning_rate, weight_decay=weight_decay\n",
        "    ),\n",
        "    metrics=[\n",
        "        keras.metrics.CategoricalAccuracy(name=\"accuracy\"),\n",
        "        keras.metrics.TopKCategoricalAccuracy(5, name=\"top-5-accuracy\"),\n",
        "    ],\n",
        ")\n",
        "\n",
        "history = model.fit(\n",
        "    x_train,\n",
        "    y_train,\n",
        "    batch_size=batch_size,\n",
        "    epochs=num_epochs,\n",
        "    validation_split=validation_split,\n",
        ")"
      ],
      "execution_count": null,
      "outputs": [
        {
          "output_type": "stream",
          "name": "stdout",
          "text": [
            "Epoch 1/50\n",
            "313/313 [==============================] - 196s 577ms/step - loss: 4.2049 - accuracy: 0.0752 - top-5-accuracy: 0.2438 - val_loss: 3.9870 - val_accuracy: 0.1106 - val_top-5-accuracy: 0.3256\n",
            "Epoch 2/50\n",
            "313/313 [==============================] - 178s 569ms/step - loss: 3.7849 - accuracy: 0.1468 - top-5-accuracy: 0.3958 - val_loss: 3.6996 - val_accuracy: 0.1723 - val_top-5-accuracy: 0.4464\n",
            "Epoch 3/50\n",
            "313/313 [==============================] - 178s 570ms/step - loss: 3.5396 - accuracy: 0.1991 - top-5-accuracy: 0.4832 - val_loss: 3.5700 - val_accuracy: 0.2092 - val_top-5-accuracy: 0.5035\n",
            "Epoch 4/50\n",
            "313/313 [==============================] - 178s 570ms/step - loss: 3.3899 - accuracy: 0.2372 - top-5-accuracy: 0.5353 - val_loss: 3.3750 - val_accuracy: 0.2531 - val_top-5-accuracy: 0.5524\n",
            "Epoch 5/50\n",
            "313/313 [==============================] - 178s 569ms/step - loss: 3.2920 - accuracy: 0.2644 - top-5-accuracy: 0.5679 - val_loss: 3.3339 - val_accuracy: 0.2652 - val_top-5-accuracy: 0.5637\n",
            "Epoch 6/50\n",
            "313/313 [==============================] - 178s 569ms/step - loss: 3.2088 - accuracy: 0.2833 - top-5-accuracy: 0.5910 - val_loss: 3.2838 - val_accuracy: 0.2835 - val_top-5-accuracy: 0.5855\n",
            "Epoch 7/50\n",
            "313/313 [==============================] - 178s 569ms/step - loss: 3.1454 - accuracy: 0.2978 - top-5-accuracy: 0.6095 - val_loss: 3.2138 - val_accuracy: 0.2989 - val_top-5-accuracy: 0.6013\n",
            "Epoch 8/50\n",
            "313/313 [==============================] - 178s 568ms/step - loss: 3.0919 - accuracy: 0.3137 - top-5-accuracy: 0.6263 - val_loss: 3.2215 - val_accuracy: 0.2968 - val_top-5-accuracy: 0.6036\n",
            "Epoch 9/50\n",
            "313/313 [==============================] - 178s 570ms/step - loss: 3.0390 - accuracy: 0.3284 - top-5-accuracy: 0.6389 - val_loss: 3.0745 - val_accuracy: 0.3318 - val_top-5-accuracy: 0.6450\n",
            "Epoch 10/50\n",
            "313/313 [==============================] - 178s 569ms/step - loss: 2.9911 - accuracy: 0.3376 - top-5-accuracy: 0.6581 - val_loss: 3.1278 - val_accuracy: 0.3266 - val_top-5-accuracy: 0.6369\n",
            "Epoch 11/50\n",
            "313/313 [==============================] - 178s 570ms/step - loss: 2.9598 - accuracy: 0.3446 - top-5-accuracy: 0.6642 - val_loss: 3.0640 - val_accuracy: 0.3359 - val_top-5-accuracy: 0.6529\n",
            "Epoch 12/50\n",
            "313/313 [==============================] - 178s 569ms/step - loss: 2.9197 - accuracy: 0.3562 - top-5-accuracy: 0.6753 - val_loss: 3.0708 - val_accuracy: 0.3358 - val_top-5-accuracy: 0.6542\n",
            "Epoch 13/50\n",
            "313/313 [==============================] - 178s 569ms/step - loss: 2.8912 - accuracy: 0.3631 - top-5-accuracy: 0.6843 - val_loss: 3.0383 - val_accuracy: 0.3423 - val_top-5-accuracy: 0.6622\n",
            "Epoch 14/50\n",
            "313/313 [==============================] - 178s 569ms/step - loss: 2.8639 - accuracy: 0.3732 - top-5-accuracy: 0.6895 - val_loss: 3.0063 - val_accuracy: 0.3502 - val_top-5-accuracy: 0.6654\n",
            "Epoch 15/50\n",
            "313/313 [==============================] - 179s 570ms/step - loss: 2.8414 - accuracy: 0.3766 - top-5-accuracy: 0.6966 - val_loss: 2.9860 - val_accuracy: 0.3594 - val_top-5-accuracy: 0.6705\n",
            "Epoch 16/50\n",
            "313/313 [==============================] - 178s 570ms/step - loss: 2.8206 - accuracy: 0.3824 - top-5-accuracy: 0.6996 - val_loss: 3.0059 - val_accuracy: 0.3561 - val_top-5-accuracy: 0.6715\n",
            "Epoch 17/50\n",
            "313/313 [==============================] - 178s 569ms/step - loss: 2.7938 - accuracy: 0.3886 - top-5-accuracy: 0.7111 - val_loss: 2.9560 - val_accuracy: 0.3691 - val_top-5-accuracy: 0.6886\n",
            "Epoch 18/50\n",
            "313/313 [==============================] - 178s 570ms/step - loss: 2.7699 - accuracy: 0.3955 - top-5-accuracy: 0.7155 - val_loss: 2.9892 - val_accuracy: 0.3558 - val_top-5-accuracy: 0.6840\n",
            "Epoch 19/50\n",
            "313/313 [==============================] - 179s 571ms/step - loss: 2.7560 - accuracy: 0.3990 - top-5-accuracy: 0.7207 - val_loss: 2.9515 - val_accuracy: 0.3704 - val_top-5-accuracy: 0.6895\n",
            "Epoch 20/50\n",
            "313/313 [==============================] - 179s 571ms/step - loss: 2.7380 - accuracy: 0.4027 - top-5-accuracy: 0.7259 - val_loss: 2.9444 - val_accuracy: 0.3736 - val_top-5-accuracy: 0.6933\n",
            "Epoch 21/50\n",
            "313/313 [==============================] - 178s 569ms/step - loss: 2.7231 - accuracy: 0.4088 - top-5-accuracy: 0.7253 - val_loss: 2.9844 - val_accuracy: 0.3707 - val_top-5-accuracy: 0.6868\n",
            "Epoch 22/50\n",
            "313/313 [==============================] - 178s 569ms/step - loss: 2.7028 - accuracy: 0.4150 - top-5-accuracy: 0.7320 - val_loss: 2.9253 - val_accuracy: 0.3753 - val_top-5-accuracy: 0.7003\n",
            "Epoch 23/50\n",
            "313/313 [==============================] - 179s 572ms/step - loss: 2.6845 - accuracy: 0.4180 - top-5-accuracy: 0.7363 - val_loss: 2.8204 - val_accuracy: 0.3984 - val_top-5-accuracy: 0.7194\n",
            "Epoch 24/50\n",
            "313/313 [==============================] - 179s 573ms/step - loss: 2.6748 - accuracy: 0.4191 - top-5-accuracy: 0.7394 - val_loss: 2.8474 - val_accuracy: 0.3930 - val_top-5-accuracy: 0.7138\n",
            "Epoch 25/50\n",
            "313/313 [==============================] - 178s 570ms/step - loss: 2.6642 - accuracy: 0.4224 - top-5-accuracy: 0.7434 - val_loss: 2.9136 - val_accuracy: 0.3859 - val_top-5-accuracy: 0.7047\n",
            "Epoch 26/50\n",
            "313/313 [==============================] - 179s 572ms/step - loss: 2.6531 - accuracy: 0.4277 - top-5-accuracy: 0.7451 - val_loss: 2.8595 - val_accuracy: 0.3994 - val_top-5-accuracy: 0.7186\n",
            "Epoch 27/50\n",
            "313/313 [==============================] - 179s 573ms/step - loss: 2.6332 - accuracy: 0.4317 - top-5-accuracy: 0.7526 - val_loss: 2.8777 - val_accuracy: 0.3966 - val_top-5-accuracy: 0.7109\n",
            "Epoch 28/50\n",
            "313/313 [==============================] - 179s 571ms/step - loss: 2.6266 - accuracy: 0.4343 - top-5-accuracy: 0.7536 - val_loss: 2.8763 - val_accuracy: 0.3944 - val_top-5-accuracy: 0.7187\n",
            "Epoch 29/50\n",
            "313/313 [==============================] - 178s 570ms/step - loss: 2.6129 - accuracy: 0.4405 - top-5-accuracy: 0.7558 - val_loss: 3.0012 - val_accuracy: 0.3753 - val_top-5-accuracy: 0.6894\n",
            "Epoch 30/50\n",
            "313/313 [==============================] - 178s 569ms/step - loss: 2.6061 - accuracy: 0.4428 - top-5-accuracy: 0.7581 - val_loss: 2.8422 - val_accuracy: 0.4033 - val_top-5-accuracy: 0.7188\n",
            "Epoch 31/50\n",
            "313/313 [==============================] - 178s 570ms/step - loss: 2.5941 - accuracy: 0.4442 - top-5-accuracy: 0.7617 - val_loss: 2.8894 - val_accuracy: 0.3966 - val_top-5-accuracy: 0.7141\n",
            "Epoch 32/50\n",
            "313/313 [==============================] - 178s 570ms/step - loss: 2.5851 - accuracy: 0.4437 - top-5-accuracy: 0.7647 - val_loss: 2.9092 - val_accuracy: 0.3921 - val_top-5-accuracy: 0.7084\n",
            "Epoch 33/50\n",
            "313/313 [==============================] - 178s 569ms/step - loss: 2.5740 - accuracy: 0.4477 - top-5-accuracy: 0.7672 - val_loss: 2.8933 - val_accuracy: 0.3988 - val_top-5-accuracy: 0.7136\n",
            "Epoch 34/50\n",
            "313/313 [==============================] - 178s 570ms/step - loss: 2.5661 - accuracy: 0.4511 - top-5-accuracy: 0.7699 - val_loss: 2.8721 - val_accuracy: 0.4035 - val_top-5-accuracy: 0.7215\n",
            "Epoch 35/50\n",
            "313/313 [==============================] - 178s 570ms/step - loss: 2.5592 - accuracy: 0.4534 - top-5-accuracy: 0.7697 - val_loss: 2.8214 - val_accuracy: 0.4142 - val_top-5-accuracy: 0.7278\n",
            "Epoch 36/50\n",
            "313/313 [==============================] - 178s 570ms/step - loss: 2.5477 - accuracy: 0.4550 - top-5-accuracy: 0.7721 - val_loss: 2.8678 - val_accuracy: 0.4074 - val_top-5-accuracy: 0.7198\n",
            "Epoch 37/50\n",
            "313/313 [==============================] - 178s 569ms/step - loss: 2.5422 - accuracy: 0.4566 - top-5-accuracy: 0.7729 - val_loss: 2.8531 - val_accuracy: 0.4085 - val_top-5-accuracy: 0.7235\n",
            "Epoch 38/50\n",
            "313/313 [==============================] - 178s 568ms/step - loss: 2.5303 - accuracy: 0.4593 - top-5-accuracy: 0.7768 - val_loss: 2.7981 - val_accuracy: 0.4163 - val_top-5-accuracy: 0.7313\n",
            "Epoch 39/50\n",
            "313/313 [==============================] - 178s 569ms/step - loss: 2.5320 - accuracy: 0.4618 - top-5-accuracy: 0.7765 - val_loss: 2.8110 - val_accuracy: 0.4193 - val_top-5-accuracy: 0.7362\n",
            "Epoch 40/50\n",
            "313/313 [==============================] - 178s 569ms/step - loss: 2.5163 - accuracy: 0.4679 - top-5-accuracy: 0.7799 - val_loss: 2.8745 - val_accuracy: 0.4100 - val_top-5-accuracy: 0.7247\n",
            "Epoch 41/50\n",
            "313/313 [==============================] - 178s 570ms/step - loss: 2.5055 - accuracy: 0.4680 - top-5-accuracy: 0.7829 - val_loss: 2.8485 - val_accuracy: 0.4109 - val_top-5-accuracy: 0.7261\n",
            "Epoch 42/50\n",
            "313/313 [==============================] - 178s 570ms/step - loss: 2.5065 - accuracy: 0.4677 - top-5-accuracy: 0.7816 - val_loss: 2.8116 - val_accuracy: 0.4172 - val_top-5-accuracy: 0.7373\n",
            "Epoch 43/50\n",
            "313/313 [==============================] - 178s 568ms/step - loss: 2.4971 - accuracy: 0.4714 - top-5-accuracy: 0.7839 - val_loss: 2.8091 - val_accuracy: 0.4186 - val_top-5-accuracy: 0.7356\n",
            "Epoch 44/50\n",
            "313/313 [==============================] - 178s 569ms/step - loss: 2.4964 - accuracy: 0.4665 - top-5-accuracy: 0.7869 - val_loss: 2.7785 - val_accuracy: 0.4276 - val_top-5-accuracy: 0.7415\n",
            "Epoch 45/50\n",
            "313/313 [==============================] - 178s 569ms/step - loss: 2.4876 - accuracy: 0.4754 - top-5-accuracy: 0.7854 - val_loss: 2.8229 - val_accuracy: 0.4146 - val_top-5-accuracy: 0.7383\n",
            "Epoch 46/50\n",
            "313/313 [==============================] - 178s 570ms/step - loss: 2.4771 - accuracy: 0.4769 - top-5-accuracy: 0.7885 - val_loss: 2.8458 - val_accuracy: 0.4124 - val_top-5-accuracy: 0.7252\n",
            "Epoch 47/50\n",
            "313/313 [==============================] - 178s 568ms/step - loss: 2.4731 - accuracy: 0.4769 - top-5-accuracy: 0.7906 - val_loss: 2.8376 - val_accuracy: 0.4225 - val_top-5-accuracy: 0.7356\n",
            "Epoch 48/50\n",
            "313/313 [==============================] - 178s 569ms/step - loss: 2.4632 - accuracy: 0.4796 - top-5-accuracy: 0.7927 - val_loss: 2.8914 - val_accuracy: 0.4069 - val_top-5-accuracy: 0.7236\n",
            "Epoch 49/50\n",
            "313/313 [==============================] - 178s 569ms/step - loss: 2.4611 - accuracy: 0.4787 - top-5-accuracy: 0.7954 - val_loss: 2.8165 - val_accuracy: 0.4130 - val_top-5-accuracy: 0.7373\n",
            "Epoch 50/50\n",
            "313/313 [==============================] - 178s 569ms/step - loss: 2.4548 - accuracy: 0.4802 - top-5-accuracy: 0.7949 - val_loss: 2.7965 - val_accuracy: 0.4181 - val_top-5-accuracy: 0.7386\n"
          ]
        }
      ]
    },
    {
      "cell_type": "code",
      "metadata": {
        "colab": {
          "base_uri": "https://localhost:8080/",
          "height": 296
        },
        "id": "LOU6G9qyNHnA",
        "outputId": "79e48c37-51e9-4ef6-eb88-6e375e6a2b88"
      },
      "source": [
        "# Let's visualize the training progress of the model.\n",
        "plt.plot(history.history[\"loss\"], label=\"train_loss\")\n",
        "plt.plot(history.history[\"val_loss\"], label=\"val_loss\")\n",
        "plt.xlabel(\"Epochs\")\n",
        "plt.ylabel(\"Loss\")\n",
        "plt.title(\"Train and Validation Losses Over Epochs\", fontsize=14)\n",
        "plt.legend()\n",
        "plt.grid()\n",
        "plt.show()"
      ],
      "execution_count": null,
      "outputs": [
        {
          "output_type": "display_data",
          "data": {
            "image/png": "[encoded data removed]",
            "text/plain": [
              "<Figure size 432x288 with 1 Axes>"
            ]
          },
          "metadata": {
            "needs_background": "light"
          }
        }
      ]
    },
    {
      "cell_type": "code",
      "metadata": {
        "colab": {
          "base_uri": "https://localhost:8080/"
        },
        "id": "r8JkOOJu50O8",
        "outputId": "4b658339-b132-4f24-9a0f-4a14981757f5"
      },
      "source": [
        "# Let's display the final results of the test on CIFAR-100.\n",
        "loss, accuracy, top_5_accuracy = model.evaluate(x_test, y_test)\n",
        "print(f\"Test loss: {round(loss, 2)}\")\n",
        "print(f\"Test accuracy: {round(accuracy * 100, 2)}%\")\n",
        "print(f\"Test top 5 accuracy: {round(top_5_accuracy * 100, 2)}%\")"
      ],
      "execution_count": null,
      "outputs": [
        {
          "output_type": "stream",
          "name": "stdout",
          "text": [
            "313/313 [==============================] - 26s 83ms/step - loss: 2.7527 - accuracy: 0.4345 - top-5-accuracy: 0.7403\n",
            "Test loss: 2.75\n",
            "Test accuracy: 43.45%\n",
            "Test top 5 accuracy: 74.03%\n"
          ]
        }
      ]
    },
    {
      "cell_type": "code",
      "metadata": {
        "id": "15821ej66gUF"
      },
      "source": [
        ""
      ],
      "execution_count": null,
      "outputs": []
    }
  ]
}